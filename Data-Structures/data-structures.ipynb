{
 "cells": [
  {
   "cell_type": "markdown",
   "metadata": {},
   "source": [
    "## Data Structures\n",
    "\n",
    "Data structures has their own trade-offs at **Operations**:\n",
    "- Insertion\n",
    "- Deletion\n",
    "- Traversal\n",
    "- Searching\n",
    "- Sorting\n",
    "- Access"
   ]
  }
 ],
 "metadata": {
  "language_info": {
   "name": "python"
  },
  "orig_nbformat": 4
 },
 "nbformat": 4,
 "nbformat_minor": 2
}
