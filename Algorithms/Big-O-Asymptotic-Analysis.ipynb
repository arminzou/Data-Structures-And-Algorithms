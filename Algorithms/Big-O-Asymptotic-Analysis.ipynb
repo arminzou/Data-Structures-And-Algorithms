{
 "cells": [
  {
   "cell_type": "markdown",
   "metadata": {},
   "source": [
    "## Big O Asymptotic Analysis\n",
    "### What is good code? ###\n",
    "1. Readable - write readable clean code that others can read that is maintainable\n",
    "2. Scalable\n",
    "> - Speed (time complexity)\n",
    "> - Memory (space complexity)\n",
    "\n",
    "\n",
    "**Data Structures + Algorithms = Programs** <br>\n",
    "**Data Structures**: Ways to store data <br>\n",
    "**Algorithms**: Functions or ways to use data structures to write the program <br>\n",
    "\n",
    "**Heap**: Where we store variables that we assigned values to\n",
    "**Stack**: Where we keep track our function calls\n",
    "\n",
    "\n"
   ]
  },
  {
   "cell_type": "markdown",
   "metadata": {},
   "source": []
  }
 ],
 "metadata": {
  "language_info": {
   "name": "python"
  },
  "orig_nbformat": 4
 },
 "nbformat": 4,
 "nbformat_minor": 2
}
