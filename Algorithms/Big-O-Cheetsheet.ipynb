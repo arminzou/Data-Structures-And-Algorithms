{
 "cells": [
  {
   "cell_type": "markdown",
   "metadata": {},
   "source": [
    "## Big Os\n",
    "\n",
    "**O(1)** Constant – no loops<br>\n",
    "**O(log N)** Logarithmic – usually searching algorithms have log n if they are sorted (Binary Search)<br>\n",
    "**O(n) Linear** – for loops, while loops through n items<br>\n",
    "**O(n log(n))** Log Linear – usually sorting operations<br>\n",
    "**O(n^2)** Quadratic – every element in a collection needs to be compared to ever other element. Two nested loops<br>\n",
    "**O(2^n)** Exponential – recursive algorithms that solves a problem of size N <br>\n",
    "**O(n!)** Factorial – you are adding a loop for every element <br>\n",
    "**Iterating through half a collection is still O(n)** <br>\n",
    "**Two separate collections: O(a * b)** <br>\n",
    "\n",
    "##What Can Cause Time in a Function?\n",
    "Operations **(+, -, *, /)**<br>\n",
    "Comparisons **(<, >, ==)**<br>\n",
    "Looping **(for, while)**<br>\n",
    "Outside Function call **(function())**<br>\n",
    "\n",
    "##Rule Book\n",
    "**Rule 1**: Always worst Case<br>\n",
    "**Rule 2**: Remove Constants<br>\n",
    "**Rule 3**:\n",
    "> - Different inputs should have different variables: **O(a + b)**\n",
    "> - A and B arrays nested would be: **O(a * b)**\n",
    "\n",
    "**+** for steps in order<br>\n",
    "***** for nested steps<br>\n",
    "\n",
    "**Rule 4**: Drop Non-dominant terms\n",
    "\n",
    "### What Causes Space Complexity?\n",
    "• Variables<br>\n",
    "• Data Structures<br>\n",
    "• Function Call<br>\n",
    "• Allocations<br>"
   ]
  }
 ],
 "metadata": {
  "language_info": {
   "name": "python"
  },
  "orig_nbformat": 4
 },
 "nbformat": 4,
 "nbformat_minor": 2
}
